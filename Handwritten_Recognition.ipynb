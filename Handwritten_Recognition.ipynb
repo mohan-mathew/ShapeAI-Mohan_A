{
  "nbformat": 4,
  "nbformat_minor": 0,
  "metadata": {
    "colab": {
      "name": "Handwritten_Recognition.ipynb",
      "provenance": []
    },
    "kernelspec": {
      "name": "python3",
      "display_name": "Python 3"
    },
    "language_info": {
      "name": "python"
    }
  },
  "cells": [
    {
      "cell_type": "code",
      "metadata": {
        "id": "4WY-t2Qtz2N_"
      },
      "source": [
        "from keras.datasets import mnist\n",
        "import matplotlib.pyplot as plt\n",
        "\n",
        "data = mnist.load_data()"
      ],
      "execution_count": 4,
      "outputs": []
    },
    {
      "cell_type": "code",
      "metadata": {
        "id": "iLrzEoWv8HEn"
      },
      "source": [
        "(X_train, y_train), (X_test, y_test) = data"
      ],
      "execution_count": 5,
      "outputs": []
    },
    {
      "cell_type": "code",
      "metadata": {
        "colab": {
          "base_uri": "https://localhost:8080/",
          "height": 298
        },
        "id": "05BCxll5-3n2",
        "outputId": "777c8270-802d-4ff9-831f-bc33ffa62a05"
      },
      "source": [
        "# X_train[0].shape\n",
        "print(y_train[1])\n",
        "\n",
        "plt.imshow(X_train[1])\n",
        "plt.colorbar()"
      ],
      "execution_count": 13,
      "outputs": [
        {
          "output_type": "stream",
          "text": [
            "0\n"
          ],
          "name": "stdout"
        },
        {
          "output_type": "execute_result",
          "data": {
            "text/plain": [
              "<matplotlib.colorbar.Colorbar at 0x7ff2cda6a3d0>"
            ]
          },
          "metadata": {
            "tags": []
          },
          "execution_count": 13
        },
        {
          "output_type": "display_data",
          "data": {
            "image/png": "[encoded data removed]",
            "text/plain": [
              "<Figure size 432x288 with 2 Axes>"
            ]
          },
          "metadata": {
            "tags": [],
            "needs_background": "light"
          }
        }
      ]
    },
    {
      "cell_type": "code",
      "metadata": {
        "colab": {
          "base_uri": "https://localhost:8080/"
        },
        "id": "BfIAym0ECNQ8",
        "outputId": "46d1e40e-7522-40c6-91ca-6ef4dc5fee52"
      },
      "source": [
        "X_train.shape"
      ],
      "execution_count": 14,
      "outputs": [
        {
          "output_type": "execute_result",
          "data": {
            "text/plain": [
              "(60000, 28, 28)"
            ]
          },
          "metadata": {
            "tags": []
          },
          "execution_count": 14
        }
      ]
    },
    {
      "cell_type": "code",
      "metadata": {
        "id": "HIOgHL34ALxx"
      },
      "source": [
        "X_train = X_train.reshape((X_train.shape[0],28*28)).astype('float32')\n",
        "X_test = X_test.reshape((X_test.shape[0], 28*28)).astype('float32')"
      ],
      "execution_count": 15,
      "outputs": []
    },
    {
      "cell_type": "code",
      "metadata": {
        "id": "meR-_GgkA7ea"
      },
      "source": [
        "X_train = X_train / 255\n",
        "X_test = X_test / 255"
      ],
      "execution_count": 16,
      "outputs": []
    },
    {
      "cell_type": "code",
      "metadata": {
        "colab": {
          "base_uri": "https://localhost:8080/"
        },
        "id": "Z1cZEcKABf29",
        "outputId": "4c934c6a-7d21-4798-e275-8b365782aa49"
      },
      "source": [
        "from keras.utils import np_utils\n",
        "\n",
        "print(y_test.shape)\n",
        "\n",
        "y_train = np_utils.to_categorical(y_train)\n",
        "y_test = np_utils.to_categorical(y_test)\n",
        "\n",
        "num_classes = y_test.shape[1]\n",
        "print(y_test.shape)"
      ],
      "execution_count": 17,
      "outputs": [
        {
          "output_type": "stream",
          "text": [
            "(10000,)\n",
            "(10000, 10)\n"
          ],
          "name": "stdout"
        }
      ]
    },
    {
      "cell_type": "code",
      "metadata": {
        "id": "cbXdf1tVDE8x"
      },
      "source": [
        "from keras.models import Sequential\n",
        "from keras.layers import Dense\n"
      ],
      "execution_count": 18,
      "outputs": []
    },
    {
      "cell_type": "code",
      "metadata": {
        "id": "8jo5I8MWGk9T"
      },
      "source": [
        "model = Sequential()\n",
        "model.add(Dense(32, input_dim = 28*28, activation='relu'))\n",
        "model.add(Dense(64, activation='relu'))\n",
        "model.add(Dense(10, activation='softmax'))"
      ],
      "execution_count": 19,
      "outputs": []
    },
    {
      "cell_type": "code",
      "metadata": {
        "id": "YAPoVaPdHQus"
      },
      "source": [
        "model.compile(loss='categorical_crossentropy',optimizer='adam',metrics=['accuracy'])"
      ],
      "execution_count": 20,
      "outputs": []
    },
    {
      "cell_type": "code",
      "metadata": {
        "colab": {
          "base_uri": "https://localhost:8080/"
        },
        "id": "bZV37IAzH2f7",
        "outputId": "58573e71-b678-48fd-cc15-1369b71c1c1c"
      },
      "source": [
        "model.summary()"
      ],
      "execution_count": 21,
      "outputs": [
        {
          "output_type": "stream",
          "text": [
            "Model: \"sequential\"\n",
            "_________________________________________________________________\n",
            "Layer (type)                 Output Shape              Param #   \n",
            "=================================================================\n",
            "dense (Dense)                (None, 32)                25120     \n",
            "_________________________________________________________________\n",
            "dense_1 (Dense)              (None, 64)                2112      \n",
            "_________________________________________________________________\n",
            "dense_2 (Dense)              (None, 10)                650       \n",
            "=================================================================\n",
            "Total params: 27,882\n",
            "Trainable params: 27,882\n",
            "Non-trainable params: 0\n",
            "_________________________________________________________________\n"
          ],
          "name": "stdout"
        }
      ]
    },
    {
      "cell_type": "code",
      "metadata": {
        "colab": {
          "base_uri": "https://localhost:8080/"
        },
        "id": "8Ii1hUA_IKaM",
        "outputId": "b5055309-d653-400a-fd24-1a158ff5c58b"
      },
      "source": [
        "model.fit(X_train, y_train, epochs=15, batch_size=100)"
      ],
      "execution_count": 24,
      "outputs": [
        {
          "output_type": "stream",
          "text": [
            "Epoch 1/15\n",
            "600/600 [==============================] - 1s 2ms/step - loss: 0.0597 - accuracy: 0.9815\n",
            "Epoch 2/15\n",
            "600/600 [==============================] - 1s 2ms/step - loss: 0.0536 - accuracy: 0.9835\n",
            "Epoch 3/15\n",
            "600/600 [==============================] - 1s 2ms/step - loss: 0.0504 - accuracy: 0.9844\n",
            "Epoch 4/15\n",
            "600/600 [==============================] - 1s 2ms/step - loss: 0.0471 - accuracy: 0.9853\n",
            "Epoch 5/15\n",
            "600/600 [==============================] - 1s 2ms/step - loss: 0.0437 - accuracy: 0.9864\n",
            "Epoch 6/15\n",
            "600/600 [==============================] - 1s 2ms/step - loss: 0.0407 - accuracy: 0.9873\n",
            "Epoch 7/15\n",
            "600/600 [==============================] - 1s 2ms/step - loss: 0.0369 - accuracy: 0.9883\n",
            "Epoch 8/15\n",
            "600/600 [==============================] - 1s 2ms/step - loss: 0.0338 - accuracy: 0.9896\n",
            "Epoch 9/15\n",
            "600/600 [==============================] - 1s 2ms/step - loss: 0.0316 - accuracy: 0.9901\n",
            "Epoch 10/15\n",
            "600/600 [==============================] - 1s 2ms/step - loss: 0.0301 - accuracy: 0.9905\n",
            "Epoch 11/15\n",
            "600/600 [==============================] - 1s 2ms/step - loss: 0.0280 - accuracy: 0.9912\n",
            "Epoch 12/15\n",
            "600/600 [==============================] - 1s 2ms/step - loss: 0.0263 - accuracy: 0.9919\n",
            "Epoch 13/15\n",
            "600/600 [==============================] - 1s 2ms/step - loss: 0.0249 - accuracy: 0.9922\n",
            "Epoch 14/15\n",
            "600/600 [==============================] - 1s 2ms/step - loss: 0.0235 - accuracy: 0.9927\n",
            "Epoch 15/15\n",
            "600/600 [==============================] - 1s 2ms/step - loss: 0.0203 - accuracy: 0.9933\n"
          ],
          "name": "stdout"
        },
        {
          "output_type": "execute_result",
          "data": {
            "text/plain": [
              "<tensorflow.python.keras.callbacks.History at 0x7ff2c79d4190>"
            ]
          },
          "metadata": {
            "tags": []
          },
          "execution_count": 24
        }
      ]
    },
    {
      "cell_type": "code",
      "metadata": {
        "colab": {
          "base_uri": "https://localhost:8080/"
        },
        "id": "TFpidWq-J8W5",
        "outputId": "7e96050b-78bb-460b-a4eb-83c2cb0ce1a8"
      },
      "source": [
        "scores = model.evaluate(X_test, y_test)\n",
        "print(scores)"
      ],
      "execution_count": 25,
      "outputs": [
        {
          "output_type": "stream",
          "text": [
            "313/313 [==============================] - 0s 992us/step - loss: 0.1303 - accuracy: 0.9693\n",
            "[0.13027970492839813, 0.9692999720573425]\n"
          ],
          "name": "stdout"
        }
      ]
    },
    {
      "cell_type": "code",
      "metadata": {
        "id": "-ns7XCQ7rfBD"
      },
      "source": [
        "#Let's Check how well it works"
      ],
      "execution_count": 46,
      "outputs": []
    },
    {
      "cell_type": "code",
      "metadata": {
        "colab": {
          "base_uri": "https://localhost:8080/",
          "height": 1000
        },
        "id": "p3Cjn3Ywr6y2",
        "outputId": "ae988069-31cd-482b-dabc-48ad02c66e95"
      },
      "source": [
        "# A few random samples\n",
        "use_samples = [5, 38, 3939, 27389]\n",
        "samples_to_predict = []\n",
        "\n",
        "# Generate plots for samples\n",
        "for sample in use_samples:\n",
        "  # Generate a plot\n",
        "  reshaped_image = X_train[sample].reshape((28,28))\n",
        "  plt.imshow(reshaped_image)\n",
        "  plt.show()\n",
        "  # Add sample to array for prediction\n",
        "  samples_to_predict.append(X_train[sample])"
      ],
      "execution_count": 43,
      "outputs": [
        {
          "output_type": "display_data",
          "data": {
            "image/png": "[encoded data removed]",
            "text/plain": [
              "<Figure size 432x288 with 1 Axes>"
            ]
          },
          "metadata": {
            "tags": [],
            "needs_background": "light"
          }
        },
        {
          "output_type": "display_data",
          "data": {
            "image/png": "[encoded data removed]",
            "text/plain": [
              "<Figure size 432x288 with 1 Axes>"
            ]
          },
          "metadata": {
            "tags": [],
            "needs_background": "light"
          }
        },
        {
          "output_type": "display_data",
          "data": {
            "image/png": "[encoded data removed]",
            "text/plain": [
              "<Figure size 432x288 with 1 Axes>"
            ]
          },
          "metadata": {
            "tags": [],
            "needs_background": "light"
          }
        },
        {
          "output_type": "display_data",
          "data": {
            "image/png": "[encoded data removed]",
            "text/plain": [
              "<Figure size 432x288 with 1 Axes>"
            ]
          },
          "metadata": {
            "tags": [],
            "needs_background": "light"
          }
        }
      ]
    },
    {
      "cell_type": "code",
      "metadata": {
        "colab": {
          "base_uri": "https://localhost:8080/"
        },
        "id": "UiI2zyUzzGVF",
        "outputId": "a258b5de-6dcc-4e9d-b29c-28d93b859626"
      },
      "source": [
        "samples_to_predict = np.array(samples_to_predict)\n",
        "print(samples_to_predict.shape)"
      ],
      "execution_count": 47,
      "outputs": [
        {
          "output_type": "stream",
          "text": [
            "(4, 784)\n"
          ],
          "name": "stdout"
        }
      ]
    },
    {
      "cell_type": "code",
      "metadata": {
        "colab": {
          "base_uri": "https://localhost:8080/"
        },
        "id": "COYzwGNi0GSJ",
        "outputId": "9c083197-d06b-4fcf-8227-c6d18d6080e7"
      },
      "source": [
        "predictions = model.predict(samples_to_predict)\n",
        "print(predictions)"
      ],
      "execution_count": 48,
      "outputs": [
        {
          "output_type": "stream",
          "text": [
            "[[7.7145304e-16 2.6985978e-09 1.0000000e+00 3.0725689e-09 1.3816602e-08\n",
            "  8.6250633e-12 8.5248086e-19 3.0196241e-09 2.5137211e-08 2.3961751e-17]\n",
            " [7.1377400e-15 3.2409179e-08 2.3613884e-05 6.0781442e-09 2.4506077e-09\n",
            "  3.4237472e-14 9.1957998e-20 9.9997640e-01 3.8700022e-16 3.8607553e-17]\n",
            " [5.9948011e-09 1.0434691e-15 1.8928208e-09 2.4903721e-14 1.6583738e-09\n",
            "  2.9614193e-05 9.9996352e-01 1.7248601e-13 6.9444918e-06 8.4365383e-11]\n",
            " [5.7272518e-22 1.0479631e-15 3.3817752e-08 1.0000000e+00 1.3985396e-26\n",
            "  1.1888583e-10 2.1532895e-26 2.2526004e-13 4.7044993e-11 5.7831618e-17]]\n"
          ],
          "name": "stdout"
        }
      ]
    },
    {
      "cell_type": "code",
      "metadata": {
        "colab": {
          "base_uri": "https://localhost:8080/"
        },
        "id": "iNUcICv-0KUg",
        "outputId": "a080b40a-24d0-4fb0-baa4-10abbb579abf"
      },
      "source": [
        "# Generate arg maxes for predictions\n",
        "classes = np.argmax(predictions, axis = 1)\n",
        "print(classes)"
      ],
      "execution_count": 54,
      "outputs": [
        {
          "output_type": "stream",
          "text": [
            "[2 7 6 3]\n"
          ],
          "name": "stdout"
        }
      ]
    },
    {
      "cell_type": "code",
      "metadata": {
        "id": "4Hso_44x0NNs"
      },
      "source": [
        ""
      ],
      "execution_count": null,
      "outputs": []
    }
  ]
}